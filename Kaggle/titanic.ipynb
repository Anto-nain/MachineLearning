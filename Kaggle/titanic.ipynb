{
 "cells": [
  {
   "attachments": {},
   "cell_type": "markdown",
   "metadata": {},
   "source": [
    "# Titanic : Machine Learning from Disaster"
   ]
  },
  {
   "attachments": {},
   "cell_type": "markdown",
   "metadata": {},
   "source": [
    "## 1 - Importing Libraries\n",
    "* **Keras from Tensorflow** - for Deep Learning\n",
    "* **Pandas** - for Data Manipulation\n",
    "* **Numpy** - for Special Features\n",
    "* **Matplotlib** - for Data Visualization\n",
    "* **Random** - for Data Correction"
   ]
  },
  {
   "cell_type": "code",
   "execution_count": 1,
   "metadata": {},
   "outputs": [
    {
     "name": "stdout",
     "output_type": "stream",
     "text": [
      "Librairies successfully imported\n",
      " - Tensorflow version:  2.9.0\n",
      " - Keras version:  2.9.0\n",
      " - Pandas version:  2.0.0\n",
      " - Numpy version:  1.23.5\n",
      " - Matplotlib version:  3.7.1\n",
      " - Random version:  NaN\n"
     ]
    }
   ],
   "source": [
    "# Import the libraries\n",
    "import tensorflow as tf\n",
    "from tensorflow import keras\n",
    "import pandas as pd\n",
    "import numpy as np\n",
    "import matplotlib.pyplot as plt\n",
    "import random as rd\n",
    "\n",
    "print(\"Librairies successfully imported\")\n",
    "\n",
    "# Clearing the session\n",
    "keras.backend.clear_session()\n",
    "\n",
    "# Checking the versions\n",
    "print(\" - Tensorflow version: \", tf.__version__)\n",
    "print(\" - Keras version: \", keras.__version__)\n",
    "print(\" - Pandas version: \", pd.__version__)\n",
    "print(\" - Numpy version: \", np.__version__)\n",
    "print(\" - Matplotlib version: \", plt.matplotlib.__version__)\n",
    "print(\" - Random version: \", \"NaN\")\n"
   ]
  },
  {
   "attachments": {},
   "cell_type": "markdown",
   "metadata": {},
   "source": [
    "## 2 - Load data"
   ]
  },
  {
   "cell_type": "code",
   "execution_count": 2,
   "metadata": {},
   "outputs": [
    {
     "name": "stdout",
     "output_type": "stream",
     "text": [
      "Data successfully loaded\n"
     ]
    }
   ],
   "source": [
    "data_folder_path = \"data_titanic/\"\n",
    "\n",
    "# Loading the data\n",
    "raw_train_data = pd.read_csv(data_folder_path + \"train.csv\")\n",
    "raw_test_data = pd.read_csv(data_folder_path + \"test.csv\")\n",
    "\n",
    "print(\"Data successfully loaded\")"
   ]
  },
  {
   "attachments": {},
   "cell_type": "markdown",
   "metadata": {},
   "source": [
    "## 3 - Data Preprocessing"
   ]
  },
  {
   "attachments": {},
   "cell_type": "markdown",
   "metadata": {},
   "source": [
    "### 3.1 - Data Visualization"
   ]
  },
  {
   "cell_type": "code",
   "execution_count": 3,
   "metadata": {},
   "outputs": [
    {
     "data": {
      "text/html": [
       "<div>\n",
       "<style scoped>\n",
       "    .dataframe tbody tr th:only-of-type {\n",
       "        vertical-align: middle;\n",
       "    }\n",
       "\n",
       "    .dataframe tbody tr th {\n",
       "        vertical-align: top;\n",
       "    }\n",
       "\n",
       "    .dataframe thead th {\n",
       "        text-align: right;\n",
       "    }\n",
       "</style>\n",
       "<table border=\"1\" class=\"dataframe\">\n",
       "  <thead>\n",
       "    <tr style=\"text-align: right;\">\n",
       "      <th></th>\n",
       "      <th>PassengerId</th>\n",
       "      <th>Survived</th>\n",
       "      <th>Pclass</th>\n",
       "      <th>Name</th>\n",
       "      <th>Sex</th>\n",
       "      <th>Age</th>\n",
       "      <th>SibSp</th>\n",
       "      <th>Parch</th>\n",
       "      <th>Ticket</th>\n",
       "      <th>Fare</th>\n",
       "      <th>Cabin</th>\n",
       "      <th>Embarked</th>\n",
       "    </tr>\n",
       "  </thead>\n",
       "  <tbody>\n",
       "    <tr>\n",
       "      <th>0</th>\n",
       "      <td>1</td>\n",
       "      <td>0</td>\n",
       "      <td>3</td>\n",
       "      <td>Braund, Mr. Owen Harris</td>\n",
       "      <td>male</td>\n",
       "      <td>22.0</td>\n",
       "      <td>1</td>\n",
       "      <td>0</td>\n",
       "      <td>A/5 21171</td>\n",
       "      <td>7.2500</td>\n",
       "      <td>NaN</td>\n",
       "      <td>S</td>\n",
       "    </tr>\n",
       "    <tr>\n",
       "      <th>1</th>\n",
       "      <td>2</td>\n",
       "      <td>1</td>\n",
       "      <td>1</td>\n",
       "      <td>Cumings, Mrs. John Bradley (Florence Briggs Th...</td>\n",
       "      <td>female</td>\n",
       "      <td>38.0</td>\n",
       "      <td>1</td>\n",
       "      <td>0</td>\n",
       "      <td>PC 17599</td>\n",
       "      <td>71.2833</td>\n",
       "      <td>C85</td>\n",
       "      <td>C</td>\n",
       "    </tr>\n",
       "    <tr>\n",
       "      <th>2</th>\n",
       "      <td>3</td>\n",
       "      <td>1</td>\n",
       "      <td>3</td>\n",
       "      <td>Heikkinen, Miss. Laina</td>\n",
       "      <td>female</td>\n",
       "      <td>26.0</td>\n",
       "      <td>0</td>\n",
       "      <td>0</td>\n",
       "      <td>STON/O2. 3101282</td>\n",
       "      <td>7.9250</td>\n",
       "      <td>NaN</td>\n",
       "      <td>S</td>\n",
       "    </tr>\n",
       "    <tr>\n",
       "      <th>3</th>\n",
       "      <td>4</td>\n",
       "      <td>1</td>\n",
       "      <td>1</td>\n",
       "      <td>Futrelle, Mrs. Jacques Heath (Lily May Peel)</td>\n",
       "      <td>female</td>\n",
       "      <td>35.0</td>\n",
       "      <td>1</td>\n",
       "      <td>0</td>\n",
       "      <td>113803</td>\n",
       "      <td>53.1000</td>\n",
       "      <td>C123</td>\n",
       "      <td>S</td>\n",
       "    </tr>\n",
       "    <tr>\n",
       "      <th>4</th>\n",
       "      <td>5</td>\n",
       "      <td>0</td>\n",
       "      <td>3</td>\n",
       "      <td>Allen, Mr. William Henry</td>\n",
       "      <td>male</td>\n",
       "      <td>35.0</td>\n",
       "      <td>0</td>\n",
       "      <td>0</td>\n",
       "      <td>373450</td>\n",
       "      <td>8.0500</td>\n",
       "      <td>NaN</td>\n",
       "      <td>S</td>\n",
       "    </tr>\n",
       "  </tbody>\n",
       "</table>\n",
       "</div>"
      ],
      "text/plain": [
       "   PassengerId  Survived  Pclass   \n",
       "0            1         0       3  \\\n",
       "1            2         1       1   \n",
       "2            3         1       3   \n",
       "3            4         1       1   \n",
       "4            5         0       3   \n",
       "\n",
       "                                                Name     Sex   Age  SibSp   \n",
       "0                            Braund, Mr. Owen Harris    male  22.0      1  \\\n",
       "1  Cumings, Mrs. John Bradley (Florence Briggs Th...  female  38.0      1   \n",
       "2                             Heikkinen, Miss. Laina  female  26.0      0   \n",
       "3       Futrelle, Mrs. Jacques Heath (Lily May Peel)  female  35.0      1   \n",
       "4                           Allen, Mr. William Henry    male  35.0      0   \n",
       "\n",
       "   Parch            Ticket     Fare Cabin Embarked  \n",
       "0      0         A/5 21171   7.2500   NaN        S  \n",
       "1      0          PC 17599  71.2833   C85        C  \n",
       "2      0  STON/O2. 3101282   7.9250   NaN        S  \n",
       "3      0            113803  53.1000  C123        S  \n",
       "4      0            373450   8.0500   NaN        S  "
      ]
     },
     "execution_count": 3,
     "metadata": {},
     "output_type": "execute_result"
    }
   ],
   "source": [
    "# Displaying the first 5 rows of the training data\n",
    "raw_train_data.head()"
   ]
  },
  {
   "attachments": {},
   "cell_type": "markdown",
   "metadata": {},
   "source": [
    "### 3.2 - Looking for missing values"
   ]
  },
  {
   "cell_type": "code",
   "execution_count": 4,
   "metadata": {},
   "outputs": [
    {
     "name": "stdout",
     "output_type": "stream",
     "text": [
      "Missing values for the training data:\n",
      " -  Age :  177  /  891\n",
      " -  Cabin :  687  /  891\n",
      " -  Embarked :  2  /  891\n",
      "Missing values for the test data:\n",
      " -  Age :  86  /  418\n",
      " -  Fare :  1  /  418\n",
      " -  Cabin :  327  /  418\n"
     ]
    }
   ],
   "source": [
    "# Pandas filter for missing values\n",
    "missing_value_filter_train_data = raw_train_data.isna().sum()[raw_train_data.isna().sum() > 0]\n",
    "missing_value_filter_test_data = raw_test_data.isna().sum()[raw_test_data.isna().sum() > 0]\n",
    "\n",
    "training_data_size = len(raw_train_data)\n",
    "test_data_size = len(raw_test_data)\n",
    "\n",
    "# Displaying the missing values for the training data\n",
    "print(\"Missing values for the training data:\")\n",
    "for column_name, missing_value_number in missing_value_filter_train_data.items():\n",
    "    print(\" - \", column_name, \": \", missing_value_number,' / ', training_data_size)\n",
    "\n",
    "# Displaying the missing values for the test data\n",
    "print(\"Missing values for the test data:\")\n",
    "for column_name, missing_value_number in missing_value_filter_test_data.items():\n",
    "    print(\" - \", column_name, \": \", missing_value_number,' / ', test_data_size)"
   ]
  },
  {
   "attachments": {},
   "cell_type": "markdown",
   "metadata": {},
   "source": [
    "### 3.3 - Strategy to fix missing values"
   ]
  },
  {
   "attachments": {},
   "cell_type": "markdown",
   "metadata": {},
   "source": [
    "Let's go through the features one by one and see what we can do about the missing values : \n",
    "* **Cabin** : In both data sets most of the values are missing, so we can drop this feature.\n",
    "* **Embarked** : There are only 2 missing values in the training set, so, in order not to polute the data, we can drop these 2 rows.\n",
    "* **Fare** : There is only 1 missing value in the test set, so we can replace it with the mean value of the feature.\n",
    "* **Age** : Is a key feature but is missing a lot in both sets. Simply replacing the missing values by the mean of it might not be the best solution as this omnipresence of the mean value may polute our model. The solution here would be to first look at the representation of ages in the data sets and give random ages to the missing values according to the distribution of the ages in the data sets : if the repartition looks like a Gauss repartition we will give random ages according to a Gauss distribution, if it looks like a uniform repartition we will give random ages according to a uniform distribution, etc.\n",
    "\n",
    "**Warning :** In order to get a \"good\" repartition, we should create a batch of data sets, test them, and finally sellect the best one only.\n"
   ]
  },
  {
   "attachments": {},
   "cell_type": "markdown",
   "metadata": {},
   "source": [
    "### 3.4 - Fixing the data for Cabin, Embarked and Fare"
   ]
  },
  {
   "cell_type": "code",
   "execution_count": 5,
   "metadata": {},
   "outputs": [
    {
     "name": "stdout",
     "output_type": "stream",
     "text": [
      "Fare missing values filled by :  33.2\n"
     ]
    }
   ],
   "source": [
    "# Droping the Cabin feature\n",
    "raw_train_data.drop(columns=['Cabin'], inplace=True)\n",
    "raw_test_data.drop(columns=['Cabin'], inplace=True)\n",
    "\n",
    "# Droping the raws with missing Embarked values\n",
    "raw_train_data.dropna(subset=['Embarked'], inplace=True)\n",
    "\n",
    "# Filling the missing values for the Fare feature\n",
    "mean_Fare_train = raw_train_data['Fare'].mean()\n",
    "mean_Fare_test = raw_test_data['Fare'].mean()\n",
    "filled_value = round((mean_Fare_train*(training_data_size-2) + mean_Fare_test*(test_data_size-1))/(training_data_size+test_data_size-3),1)\n",
    "raw_test_data['Fare'].fillna(filled_value, inplace=True)\n",
    "print(\"Fare missing values filled by : \", filled_value)"
   ]
  },
  {
   "attachments": {},
   "cell_type": "markdown",
   "metadata": {},
   "source": [
    "### 3.5 - Fixing the data for Age"
   ]
  },
  {
   "attachments": {},
   "cell_type": "markdown",
   "metadata": {},
   "source": [
    "Let's first have a look at the repartition of the ages in the data sets."
   ]
  },
  {
   "cell_type": "code",
   "execution_count": 6,
   "metadata": {},
   "outputs": [
    {
     "name": "stdout",
     "output_type": "stream",
     "text": [
      "Mean age for the training data:  29.6\n",
      "Standard deviation for the training data:  14.5\n",
      "Mean age for the test data:  30.3\n",
      "Standard deviation for the test data:  14.2\n"
     ]
    },
    {
     "data": {
      "image/png": "[encoded data removed]",
      "text/plain": [
       "<Figure size 1000x500 with 2 Axes>"
      ]
     },
     "metadata": {},
     "output_type": "display_data"
    }
   ],
   "source": [
    "# Let's clean the data for representing the age\n",
    "rep_train = raw_train_data[\"Age\"].dropna()\n",
    "rep_test = raw_test_data[\"Age\"].dropna()\n",
    "\n",
    "# Getting the mean and the standard deviation\n",
    "mean_age_train = round(rep_train.mean(),1)\n",
    "std_age_train = round(rep_train.std(),1)\n",
    "mean_age_test = round(rep_test.mean(),1)\n",
    "std_age_test = round(rep_test.std(),1)\n",
    "\n",
    "print(\"Mean age for the training data: \", mean_age_train)\n",
    "print(\"Standard deviation for the training data: \", std_age_train)\n",
    "print(\"Mean age for the test data: \", mean_age_test)\n",
    "print(\"Standard deviation for the test data: \", std_age_test)\n",
    "\n",
    "# Creating histograms\n",
    "fig, (ax1, ax2) = plt.subplots(1, 2, figsize=(10,5))\n",
    "\n",
    "ax1.hist(rep_train, bins=14)\n",
    "ax1.set_title(\"Train data\")\n",
    "\n",
    "\n",
    "ax2.hist(rep_test, bins=14)\n",
    "ax2.set_title(\"Test data\")\n",
    "\n",
    "plt.show()"
   ]
  },
  {
   "attachments": {},
   "cell_type": "markdown",
   "metadata": {},
   "source": [
    "What's great about the graphs and data mean and standarad deviation is that they all are coherent.\n",
    "\n",
    "For the next step, let's assume those repartitions are Gauss repartitions with a mean of 30 and a standard deviation of 14.4. \n",
    "\n",
    "Now, we only have to create the correct distribution."
   ]
  },
  {
   "cell_type": "code",
   "execution_count": 7,
   "metadata": {},
   "outputs": [],
   "source": [
    "# Creation of the distribution\n",
    "def distrib():\n",
    "    return max(0, rd.gauss( 30, 14.4))"
   ]
  },
  {
   "attachments": {},
   "cell_type": "markdown",
   "metadata": {},
   "source": [
    "Let's generate the missing data with our distribution."
   ]
  },
  {
   "cell_type": "code",
   "execution_count": 8,
   "metadata": {},
   "outputs": [],
   "source": [
    "# Replace the missing values by the distribution\n",
    "raw_test_data['Age'].fillna(raw_test_data['Age'].apply(lambda x: distrib()), inplace=True)\n",
    "raw_train_data['Age'].fillna(raw_train_data['Age'].apply(lambda x: distrib()), inplace=True)"
   ]
  },
  {
   "attachments": {},
   "cell_type": "markdown",
   "metadata": {},
   "source": [
    "### 3.6 - Checking the data"
   ]
  },
  {
   "cell_type": "code",
   "execution_count": 9,
   "metadata": {},
   "outputs": [
    {
     "name": "stdout",
     "output_type": "stream",
     "text": [
      "Number of missing values for the training data:  0\n",
      "Number of missing values for the test data:  0\n",
      "\n",
      "Data successfully cleaned\n"
     ]
    }
   ],
   "source": [
    "# Re-checking the missing values\n",
    "number_of_missing_values_train = raw_train_data.isna().sum()[raw_train_data.isna().sum() > 0].sum()\n",
    "number_of_missing_values_test = raw_test_data.isna().sum()[raw_test_data.isna().sum() > 0].sum()\n",
    "print(\"Number of missing values for the training data: \", number_of_missing_values_train)\n",
    "print(\"Number of missing values for the test data: \", number_of_missing_values_test)\n",
    "\n",
    "# Renaming the data\n",
    "clean_train_data = raw_train_data\n",
    "clean_test_data = raw_test_data\n",
    "print()\n",
    "print(\"Data successfully cleaned\")"
   ]
  },
  {
   "attachments": {},
   "cell_type": "markdown",
   "metadata": {},
   "source": [
    "## 4 - Data Normalizing and usable datasets creation"
   ]
  },
  {
   "attachments": {},
   "cell_type": "markdown",
   "metadata": {},
   "source": [
    "### 4.1 - Data tranformation to categorical values\n",
    "A few modification on the data will be made :\n",
    "* The PassengerId column will be dropped.\n",
    "* The name column will be dropped as it is not relevant for the model.\n",
    "* The Ticket column will be dropped too as it doen't semm to give any information.\n",
    "* The Embarked feature will be tranformed reagarding the chronological steps of the Titanic Journey : Southampton -> Cherbourg -> Queenstown. Thus, we will perform the following transformation :\n",
    "    * S -> 0\n",
    "    * C -> 1\n",
    "    * Q -> 2\n",
    "* The Sex feature will be transformed as followed :\n",
    "    * male -> 0\n",
    "    * female -> 1"
   ]
  },
  {
   "cell_type": "code",
   "execution_count": 10,
   "metadata": {},
   "outputs": [],
   "source": [
    "# Droping the PassengerId, Name and Ticket features\n",
    "clean_test_data.drop(columns=['Name', 'Ticket'], inplace=True)\n",
    "clean_train_data.drop(columns=['PassengerId', 'Name', 'Ticket'], inplace=True)\n",
    "\n",
    "# Replacing the Embarked feature by a numerical feature\n",
    "clean_train_data['Embarked'].replace(['S', 'C', 'Q'], [0, 1, 2], inplace=True)\n",
    "clean_test_data['Embarked'].replace(['S', 'C', 'Q'], [0, 1, 2], inplace=True)\n",
    "\n",
    "# Replacing the gender feature by a numerical feature\n",
    "clean_train_data['Sex'].replace(['male','female'], [0, 1], inplace=True)\n",
    "clean_test_data['Sex'].replace(['male','female'], [0, 1], inplace=True)"
   ]
  },
  {
   "attachments": {},
   "cell_type": "markdown",
   "metadata": {},
   "source": [
    "### 4.2 - Data Normalizing"
   ]
  },
  {
   "cell_type": "code",
   "execution_count": 11,
   "metadata": {},
   "outputs": [],
   "source": [
    "# Normalizing the train data set\n",
    "for label in clean_train_data.columns:\n",
    "    if label != 'Survived':\n",
    "        mean = clean_train_data[label].mean()\n",
    "        std = clean_train_data[label].std()\n",
    "        clean_train_data[label] = clean_train_data[label].apply(lambda x: (x-mean)/std)\n",
    "\n",
    "# Normalizing the test data set\n",
    "for label in clean_test_data.columns:\n",
    "    if label != 'PassengerId':\n",
    "        mean = clean_test_data[label].mean()\n",
    "        std = clean_test_data[label].std()\n",
    "        clean_test_data[label] = clean_test_data[label].apply(lambda x: (x-mean)/std)"
   ]
  },
  {
   "attachments": {},
   "cell_type": "markdown",
   "metadata": {},
   "source": [
    "### 4.3 - Data Shuffling and Splitting"
   ]
  },
  {
   "cell_type": "code",
   "execution_count": 12,
   "metadata": {},
   "outputs": [
    {
     "name": "stdout",
     "output_type": "stream",
     "text": [
      "Data in ready to be used for the training of the neural network\n",
      "X_train shape:  (711, 7)\n",
      "Y_train shape:  (711,)\n"
     ]
    }
   ],
   "source": [
    "# Shuffling the data\n",
    "data = clean_train_data.sample(frac=1)\n",
    "\n",
    "# Spliting the data\n",
    "validation_data = data.sample(frac=0.2)\n",
    "train_data = data.drop(validation_data.index)\n",
    "\n",
    "# Creation of the entries and exits of our neural network\n",
    "X_train = train_data.drop(columns=['Survived'])\n",
    "Y_train = train_data['Survived']\n",
    "\n",
    "X_validation = validation_data.drop(columns=['Survived'])\n",
    "Y_validation = validation_data['Survived']\n",
    "\n",
    "X_test = clean_test_data\n",
    "\n",
    "\n",
    "\n",
    "print(\"Data in ready to be used for the training of the neural network\")\n",
    "print(\"X_train shape: \", X_train.shape)\n",
    "print(\"Y_train shape: \", Y_train.shape)"
   ]
  },
  {
   "attachments": {},
   "cell_type": "markdown",
   "metadata": {},
   "source": [
    "## 5 - Model Creation"
   ]
  },
  {
   "cell_type": "code",
   "execution_count": 13,
   "metadata": {},
   "outputs": [
    {
     "name": "stdout",
     "output_type": "stream",
     "text": [
      "Model: \"sequential\"\n",
      "_________________________________________________________________\n",
      " Layer (type)                Output Shape              Param #   \n",
      "=================================================================\n",
      " dense (Dense)               (None, 32)                256       \n",
      "                                                                 \n",
      " dense_1 (Dense)             (None, 16)                528       \n",
      "                                                                 \n",
      " dense_2 (Dense)             (None, 1)                 17        \n",
      "                                                                 \n",
      "=================================================================\n",
      "Total params: 801\n",
      "Trainable params: 801\n",
      "Non-trainable params: 0\n",
      "_________________________________________________________________\n"
     ]
    }
   ],
   "source": [
    "shape = X_train.shape[1] # = 7\n",
    "\n",
    "# Creation of the model\n",
    "model = keras.models.Sequential()\n",
    "model.add(keras.layers.Input(shape))\n",
    "model.add(keras.layers.Dense(32, activation='relu'))\n",
    "model.add(keras.layers.Dense(16, activation='relu'))\n",
    "model.add(keras.layers.Dense(1, activation='sigmoid'))\n",
    "\n",
    "# Compilation of the model\n",
    "model.compile(optimizer = 'adam',\n",
    "              loss      = 'binary_crossentropy',\n",
    "              metrics   = ['accuracy'])\n",
    "\n",
    "model.summary()\n"
   ]
  },
  {
   "attachments": {},
   "cell_type": "markdown",
   "metadata": {},
   "source": [
    "## 6 - Model Training"
   ]
  },
  {
   "attachments": {},
   "cell_type": "markdown",
   "metadata": {},
   "source": [
    "*Note : to select the bet model, we will choose the one that has the best accuracy on the validation set.*"
   ]
  },
  {
   "cell_type": "code",
   "execution_count": 14,
   "metadata": {},
   "outputs": [
    {
     "name": "stdout",
     "output_type": "stream",
     "text": [
      "Epoch 1/100\n",
      "61/72 [========================>.....] - ETA: 0s - loss: 0.7312 - accuracy: 0.4934\n",
      "Epoch 1: val_accuracy improved from -inf to 0.70787, saving model to prediction_titanic\\best_model_v1.h5\n",
      "72/72 [==============================] - 1s 6ms/step - loss: 0.7219 - accuracy: 0.5246 - val_loss: 0.6578 - val_accuracy: 0.7079\n",
      "Epoch 2/100\n",
      "39/72 [===============>..............] - ETA: 0s - loss: 0.6009 - accuracy: 0.7821\n",
      "Epoch 2: val_accuracy improved from 0.70787 to 0.78652, saving model to prediction_titanic\\best_model_v1.h5\n",
      "72/72 [==============================] - 0s 2ms/step - loss: 0.5821 - accuracy: 0.7820 - val_loss: 0.5575 - val_accuracy: 0.7865\n",
      "Epoch 3/100\n",
      "37/72 [==============>...............] - ETA: 0s - loss: 0.4740 - accuracy: 0.8270\n",
      "Epoch 3: val_accuracy improved from 0.78652 to 0.79213, saving model to prediction_titanic\\best_model_v1.h5\n",
      "72/72 [==============================] - 0s 2ms/step - loss: 0.4851 - accuracy: 0.8045 - val_loss: 0.4989 - val_accuracy: 0.7921\n",
      "Epoch 4/100\n",
      "41/72 [================>.............] - ETA: 0s - loss: 0.4621 - accuracy: 0.8098\n",
      "Epoch 4: val_accuracy improved from 0.79213 to 0.79775, saving model to prediction_titanic\\best_model_v1.h5\n",
      "72/72 [==============================] - 0s 2ms/step - loss: 0.4406 - accuracy: 0.8143 - val_loss: 0.4787 - val_accuracy: 0.7978\n",
      "Epoch 5/100\n",
      "41/72 [================>.............] - ETA: 0s - loss: 0.4305 - accuracy: 0.8024\n",
      "Epoch 5: val_accuracy did not improve from 0.79775\n",
      "72/72 [==============================] - 0s 2ms/step - loss: 0.4208 - accuracy: 0.8101 - val_loss: 0.4703 - val_accuracy: 0.7921\n",
      "Epoch 6/100\n",
      "40/72 [===============>..............] - ETA: 0s - loss: 0.4481 - accuracy: 0.7900\n",
      "Epoch 6: val_accuracy improved from 0.79775 to 0.80899, saving model to prediction_titanic\\best_model_v1.h5\n",
      "72/72 [==============================] - 0s 2ms/step - loss: 0.4175 - accuracy: 0.8214 - val_loss: 0.4693 - val_accuracy: 0.8090\n",
      "Epoch 7/100\n",
      "41/72 [================>.............] - ETA: 0s - loss: 0.4031 - accuracy: 0.8220\n",
      "Epoch 7: val_accuracy did not improve from 0.80899\n",
      "72/72 [==============================] - 0s 2ms/step - loss: 0.4098 - accuracy: 0.8270 - val_loss: 0.4643 - val_accuracy: 0.8090\n",
      "Epoch 8/100\n",
      "37/72 [==============>...............] - ETA: 0s - loss: 0.4274 - accuracy: 0.8189\n",
      "Epoch 8: val_accuracy did not improve from 0.80899\n",
      "72/72 [==============================] - 0s 2ms/step - loss: 0.4036 - accuracy: 0.8340 - val_loss: 0.4616 - val_accuracy: 0.8034\n",
      "Epoch 9/100\n",
      "41/72 [================>.............] - ETA: 0s - loss: 0.3983 - accuracy: 0.8366\n",
      "Epoch 9: val_accuracy did not improve from 0.80899\n",
      "72/72 [==============================] - 0s 2ms/step - loss: 0.3998 - accuracy: 0.8340 - val_loss: 0.4579 - val_accuracy: 0.8090\n",
      "Epoch 10/100\n",
      "40/72 [===============>..............] - ETA: 0s - loss: 0.4210 - accuracy: 0.8175\n",
      "Epoch 10: val_accuracy improved from 0.80899 to 0.82022, saving model to prediction_titanic\\best_model_v1.h5\n",
      "72/72 [==============================] - 0s 2ms/step - loss: 0.4007 - accuracy: 0.8284 - val_loss: 0.4576 - val_accuracy: 0.8202\n",
      "Epoch 11/100\n",
      "39/72 [===============>..............] - ETA: 0s - loss: 0.4189 - accuracy: 0.8154\n",
      "Epoch 11: val_accuracy did not improve from 0.82022\n",
      "72/72 [==============================] - 0s 2ms/step - loss: 0.3956 - accuracy: 0.8326 - val_loss: 0.4593 - val_accuracy: 0.8034\n",
      "Epoch 12/100\n",
      "42/72 [================>.............] - ETA: 0s - loss: 0.4177 - accuracy: 0.8310\n",
      "Epoch 12: val_accuracy did not improve from 0.82022\n",
      "72/72 [==============================] - 0s 2ms/step - loss: 0.3934 - accuracy: 0.8439 - val_loss: 0.4569 - val_accuracy: 0.8090\n",
      "Epoch 13/100\n",
      "41/72 [================>.............] - ETA: 0s - loss: 0.3943 - accuracy: 0.8341\n",
      "Epoch 13: val_accuracy did not improve from 0.82022\n",
      "72/72 [==============================] - 0s 2ms/step - loss: 0.3915 - accuracy: 0.8411 - val_loss: 0.4551 - val_accuracy: 0.8202\n",
      "Epoch 14/100\n",
      "41/72 [================>.............] - ETA: 0s - loss: 0.4206 - accuracy: 0.8195\n",
      "Epoch 14: val_accuracy did not improve from 0.82022\n",
      "72/72 [==============================] - 0s 2ms/step - loss: 0.3899 - accuracy: 0.8439 - val_loss: 0.4577 - val_accuracy: 0.8146\n",
      "Epoch 15/100\n",
      "43/72 [================>.............] - ETA: 0s - loss: 0.3927 - accuracy: 0.8372\n",
      "Epoch 15: val_accuracy did not improve from 0.82022\n",
      "72/72 [==============================] - 0s 2ms/step - loss: 0.3876 - accuracy: 0.8439 - val_loss: 0.4596 - val_accuracy: 0.7921\n",
      "Epoch 16/100\n",
      "43/72 [================>.............] - ETA: 0s - loss: 0.3843 - accuracy: 0.8581\n",
      "Epoch 16: val_accuracy did not improve from 0.82022\n",
      "72/72 [==============================] - 0s 2ms/step - loss: 0.3891 - accuracy: 0.8467 - val_loss: 0.4625 - val_accuracy: 0.8034\n",
      "Epoch 17/100\n",
      "41/72 [================>.............] - ETA: 0s - loss: 0.3935 - accuracy: 0.8390\n",
      "Epoch 17: val_accuracy improved from 0.82022 to 0.83146, saving model to prediction_titanic\\best_model_v1.h5\n",
      "72/72 [==============================] - 0s 2ms/step - loss: 0.3850 - accuracy: 0.8411 - val_loss: 0.4575 - val_accuracy: 0.8315\n",
      "Epoch 18/100\n",
      "44/72 [=================>............] - ETA: 0s - loss: 0.3788 - accuracy: 0.8455\n",
      "Epoch 18: val_accuracy did not improve from 0.83146\n",
      "72/72 [==============================] - 0s 2ms/step - loss: 0.3844 - accuracy: 0.8397 - val_loss: 0.4615 - val_accuracy: 0.8146\n",
      "Epoch 19/100\n",
      "44/72 [=================>............] - ETA: 0s - loss: 0.4005 - accuracy: 0.8364\n",
      "Epoch 19: val_accuracy did not improve from 0.83146\n",
      "72/72 [==============================] - 0s 2ms/step - loss: 0.3839 - accuracy: 0.8425 - val_loss: 0.4630 - val_accuracy: 0.8034\n",
      "Epoch 20/100\n",
      "39/72 [===============>..............] - ETA: 0s - loss: 0.3856 - accuracy: 0.8436\n",
      "Epoch 20: val_accuracy did not improve from 0.83146\n",
      "72/72 [==============================] - 0s 2ms/step - loss: 0.3822 - accuracy: 0.8439 - val_loss: 0.4585 - val_accuracy: 0.8146\n",
      "Epoch 21/100\n",
      "40/72 [===============>..............] - ETA: 0s - loss: 0.3592 - accuracy: 0.8575\n",
      "Epoch 21: val_accuracy did not improve from 0.83146\n",
      "72/72 [==============================] - 0s 2ms/step - loss: 0.3813 - accuracy: 0.8397 - val_loss: 0.4557 - val_accuracy: 0.8034\n",
      "Epoch 22/100\n",
      "62/72 [========================>.....] - ETA: 0s - loss: 0.3735 - accuracy: 0.8435\n",
      "Epoch 22: val_accuracy did not improve from 0.83146\n",
      "72/72 [==============================] - 0s 2ms/step - loss: 0.3812 - accuracy: 0.8453 - val_loss: 0.4590 - val_accuracy: 0.8090\n",
      "Epoch 23/100\n",
      "37/72 [==============>...............] - ETA: 0s - loss: 0.3979 - accuracy: 0.8351\n",
      "Epoch 23: val_accuracy did not improve from 0.83146\n",
      "72/72 [==============================] - 0s 2ms/step - loss: 0.3771 - accuracy: 0.8467 - val_loss: 0.4611 - val_accuracy: 0.8146\n",
      "Epoch 24/100\n",
      "43/72 [================>.............] - ETA: 0s - loss: 0.3717 - accuracy: 0.8581\n",
      "Epoch 24: val_accuracy did not improve from 0.83146\n",
      "72/72 [==============================] - 0s 2ms/step - loss: 0.3762 - accuracy: 0.8509 - val_loss: 0.4579 - val_accuracy: 0.8146\n",
      "Epoch 25/100\n",
      "44/72 [=================>............] - ETA: 0s - loss: 0.3867 - accuracy: 0.8432\n",
      "Epoch 25: val_accuracy did not improve from 0.83146\n",
      "72/72 [==============================] - 0s 2ms/step - loss: 0.3778 - accuracy: 0.8467 - val_loss: 0.4552 - val_accuracy: 0.8034\n",
      "Epoch 26/100\n",
      "44/72 [=================>............] - ETA: 0s - loss: 0.3640 - accuracy: 0.8568\n",
      "Epoch 26: val_accuracy did not improve from 0.83146\n",
      "72/72 [==============================] - 0s 2ms/step - loss: 0.3744 - accuracy: 0.8439 - val_loss: 0.4538 - val_accuracy: 0.8202\n",
      "Epoch 27/100\n",
      "41/72 [================>.............] - ETA: 0s - loss: 0.3614 - accuracy: 0.8488\n",
      "Epoch 27: val_accuracy did not improve from 0.83146\n",
      "72/72 [==============================] - 0s 2ms/step - loss: 0.3739 - accuracy: 0.8467 - val_loss: 0.4558 - val_accuracy: 0.8090\n",
      "Epoch 28/100\n",
      "44/72 [=================>............] - ETA: 0s - loss: 0.3677 - accuracy: 0.8591\n",
      "Epoch 28: val_accuracy did not improve from 0.83146\n",
      "72/72 [==============================] - 0s 2ms/step - loss: 0.3734 - accuracy: 0.8509 - val_loss: 0.4565 - val_accuracy: 0.8090\n",
      "Epoch 29/100\n",
      "43/72 [================>.............] - ETA: 0s - loss: 0.3734 - accuracy: 0.8465\n",
      "Epoch 29: val_accuracy did not improve from 0.83146\n",
      "72/72 [==============================] - 0s 2ms/step - loss: 0.3728 - accuracy: 0.8481 - val_loss: 0.4640 - val_accuracy: 0.8034\n",
      "Epoch 30/100\n",
      "40/72 [===============>..............] - ETA: 0s - loss: 0.3879 - accuracy: 0.8375\n",
      "Epoch 30: val_accuracy did not improve from 0.83146\n",
      "72/72 [==============================] - 0s 2ms/step - loss: 0.3720 - accuracy: 0.8509 - val_loss: 0.4615 - val_accuracy: 0.8034\n",
      "Epoch 31/100\n",
      "39/72 [===============>..............] - ETA: 0s - loss: 0.3607 - accuracy: 0.8538\n",
      "Epoch 31: val_accuracy did not improve from 0.83146\n",
      "72/72 [==============================] - 0s 2ms/step - loss: 0.3713 - accuracy: 0.8509 - val_loss: 0.4590 - val_accuracy: 0.8090\n",
      "Epoch 32/100\n",
      "41/72 [================>.............] - ETA: 0s - loss: 0.3721 - accuracy: 0.8415\n",
      "Epoch 32: val_accuracy did not improve from 0.83146\n",
      "72/72 [==============================] - 0s 2ms/step - loss: 0.3694 - accuracy: 0.8481 - val_loss: 0.4599 - val_accuracy: 0.8090\n",
      "Epoch 33/100\n",
      "44/72 [=================>............] - ETA: 0s - loss: 0.3722 - accuracy: 0.8568\n",
      "Epoch 33: val_accuracy did not improve from 0.83146\n",
      "72/72 [==============================] - 0s 2ms/step - loss: 0.3664 - accuracy: 0.8579 - val_loss: 0.4674 - val_accuracy: 0.8034\n",
      "Epoch 34/100\n",
      "40/72 [===============>..............] - ETA: 0s - loss: 0.3712 - accuracy: 0.8500\n",
      "Epoch 34: val_accuracy did not improve from 0.83146\n",
      "72/72 [==============================] - 0s 2ms/step - loss: 0.3666 - accuracy: 0.8509 - val_loss: 0.4598 - val_accuracy: 0.8090\n",
      "Epoch 35/100\n",
      "42/72 [================>.............] - ETA: 0s - loss: 0.3527 - accuracy: 0.8643\n",
      "Epoch 35: val_accuracy did not improve from 0.83146\n",
      "72/72 [==============================] - 0s 2ms/step - loss: 0.3667 - accuracy: 0.8495 - val_loss: 0.4623 - val_accuracy: 0.8034\n",
      "Epoch 36/100\n",
      "44/72 [=================>............] - ETA: 0s - loss: 0.3543 - accuracy: 0.8614\n",
      "Epoch 36: val_accuracy did not improve from 0.83146\n",
      "72/72 [==============================] - 0s 2ms/step - loss: 0.3679 - accuracy: 0.8453 - val_loss: 0.4608 - val_accuracy: 0.8146\n",
      "Epoch 37/100\n",
      "42/72 [================>.............] - ETA: 0s - loss: 0.3943 - accuracy: 0.8357\n",
      "Epoch 37: val_accuracy did not improve from 0.83146\n",
      "72/72 [==============================] - 0s 2ms/step - loss: 0.3644 - accuracy: 0.8537 - val_loss: 0.4645 - val_accuracy: 0.8034\n",
      "Epoch 38/100\n",
      "37/72 [==============>...............] - ETA: 0s - loss: 0.3674 - accuracy: 0.8514\n",
      "Epoch 38: val_accuracy did not improve from 0.83146\n",
      "72/72 [==============================] - 0s 2ms/step - loss: 0.3620 - accuracy: 0.8481 - val_loss: 0.4598 - val_accuracy: 0.8202\n",
      "Epoch 39/100\n",
      "43/72 [================>.............] - ETA: 0s - loss: 0.3640 - accuracy: 0.8442\n",
      "Epoch 39: val_accuracy did not improve from 0.83146\n",
      "72/72 [==============================] - 0s 2ms/step - loss: 0.3621 - accuracy: 0.8495 - val_loss: 0.4683 - val_accuracy: 0.8034\n",
      "Epoch 40/100\n",
      "45/72 [=================>............] - ETA: 0s - loss: 0.3683 - accuracy: 0.8422\n",
      "Epoch 40: val_accuracy did not improve from 0.83146\n",
      "72/72 [==============================] - 0s 2ms/step - loss: 0.3617 - accuracy: 0.8495 - val_loss: 0.4631 - val_accuracy: 0.8090\n",
      "Epoch 41/100\n",
      "40/72 [===============>..............] - ETA: 0s - loss: 0.3730 - accuracy: 0.8500\n",
      "Epoch 41: val_accuracy did not improve from 0.83146\n",
      "72/72 [==============================] - 0s 2ms/step - loss: 0.3603 - accuracy: 0.8565 - val_loss: 0.4617 - val_accuracy: 0.8090\n",
      "Epoch 42/100\n",
      "43/72 [================>.............] - ETA: 0s - loss: 0.3697 - accuracy: 0.8395\n",
      "Epoch 42: val_accuracy did not improve from 0.83146\n",
      "72/72 [==============================] - 0s 2ms/step - loss: 0.3685 - accuracy: 0.8397 - val_loss: 0.4637 - val_accuracy: 0.8034\n",
      "Epoch 43/100\n",
      "45/72 [=================>............] - ETA: 0s - loss: 0.3514 - accuracy: 0.8644\n",
      "Epoch 43: val_accuracy did not improve from 0.83146\n",
      "72/72 [==============================] - 0s 2ms/step - loss: 0.3627 - accuracy: 0.8509 - val_loss: 0.4636 - val_accuracy: 0.8146\n",
      "Epoch 44/100\n",
      "44/72 [=================>............] - ETA: 0s - loss: 0.3609 - accuracy: 0.8523\n",
      "Epoch 44: val_accuracy did not improve from 0.83146\n",
      "72/72 [==============================] - 0s 2ms/step - loss: 0.3615 - accuracy: 0.8551 - val_loss: 0.4592 - val_accuracy: 0.8090\n",
      "Epoch 45/100\n",
      "42/72 [================>.............] - ETA: 0s - loss: 0.3396 - accuracy: 0.8738\n",
      "Epoch 45: val_accuracy did not improve from 0.83146\n",
      "72/72 [==============================] - 0s 2ms/step - loss: 0.3573 - accuracy: 0.8523 - val_loss: 0.4615 - val_accuracy: 0.8146\n",
      "Epoch 46/100\n",
      "43/72 [================>.............] - ETA: 0s - loss: 0.3531 - accuracy: 0.8512\n",
      "Epoch 46: val_accuracy did not improve from 0.83146\n",
      "72/72 [==============================] - 0s 2ms/step - loss: 0.3576 - accuracy: 0.8509 - val_loss: 0.4683 - val_accuracy: 0.8090\n",
      "Epoch 47/100\n",
      "39/72 [===============>..............] - ETA: 0s - loss: 0.3565 - accuracy: 0.8436\n",
      "Epoch 47: val_accuracy did not improve from 0.83146\n",
      "72/72 [==============================] - 0s 2ms/step - loss: 0.3563 - accuracy: 0.8537 - val_loss: 0.4651 - val_accuracy: 0.8202\n",
      "Epoch 48/100\n",
      "43/72 [================>.............] - ETA: 0s - loss: 0.3774 - accuracy: 0.8465\n",
      "Epoch 48: val_accuracy did not improve from 0.83146\n",
      "72/72 [==============================] - 0s 2ms/step - loss: 0.3552 - accuracy: 0.8523 - val_loss: 0.4616 - val_accuracy: 0.8090\n",
      "Epoch 49/100\n",
      "42/72 [================>.............] - ETA: 0s - loss: 0.3692 - accuracy: 0.8357\n",
      "Epoch 49: val_accuracy did not improve from 0.83146\n",
      "72/72 [==============================] - 0s 2ms/step - loss: 0.3547 - accuracy: 0.8495 - val_loss: 0.4728 - val_accuracy: 0.8090\n",
      "Epoch 50/100\n",
      "40/72 [===============>..............] - ETA: 0s - loss: 0.3857 - accuracy: 0.8325\n",
      "Epoch 50: val_accuracy did not improve from 0.83146\n",
      "72/72 [==============================] - 0s 2ms/step - loss: 0.3561 - accuracy: 0.8523 - val_loss: 0.4642 - val_accuracy: 0.8090\n",
      "Epoch 51/100\n",
      "42/72 [================>.............] - ETA: 0s - loss: 0.3451 - accuracy: 0.8619\n",
      "Epoch 51: val_accuracy did not improve from 0.83146\n",
      "72/72 [==============================] - 0s 2ms/step - loss: 0.3537 - accuracy: 0.8579 - val_loss: 0.4713 - val_accuracy: 0.8090\n",
      "Epoch 52/100\n",
      "41/72 [================>.............] - ETA: 0s - loss: 0.3638 - accuracy: 0.8439\n",
      "Epoch 52: val_accuracy did not improve from 0.83146\n",
      "72/72 [==============================] - 0s 2ms/step - loss: 0.3530 - accuracy: 0.8495 - val_loss: 0.4642 - val_accuracy: 0.8146\n",
      "Epoch 53/100\n",
      "43/72 [================>.............] - ETA: 0s - loss: 0.3475 - accuracy: 0.8512\n",
      "Epoch 53: val_accuracy did not improve from 0.83146\n",
      "72/72 [==============================] - 0s 2ms/step - loss: 0.3513 - accuracy: 0.8523 - val_loss: 0.4687 - val_accuracy: 0.8090\n",
      "Epoch 54/100\n",
      "40/72 [===============>..............] - ETA: 0s - loss: 0.3241 - accuracy: 0.8600\n",
      "Epoch 54: val_accuracy did not improve from 0.83146\n",
      "72/72 [==============================] - 0s 2ms/step - loss: 0.3512 - accuracy: 0.8537 - val_loss: 0.4682 - val_accuracy: 0.8146\n",
      "Epoch 55/100\n",
      "45/72 [=================>............] - ETA: 0s - loss: 0.3424 - accuracy: 0.8578\n",
      "Epoch 55: val_accuracy did not improve from 0.83146\n",
      "72/72 [==============================] - 0s 2ms/step - loss: 0.3487 - accuracy: 0.8523 - val_loss: 0.4690 - val_accuracy: 0.8202\n",
      "Epoch 56/100\n",
      "45/72 [=================>............] - ETA: 0s - loss: 0.3635 - accuracy: 0.8378\n",
      "Epoch 56: val_accuracy did not improve from 0.83146\n",
      "72/72 [==============================] - 0s 2ms/step - loss: 0.3517 - accuracy: 0.8537 - val_loss: 0.4655 - val_accuracy: 0.8146\n",
      "Epoch 57/100\n",
      "70/72 [============================>.] - ETA: 0s - loss: 0.3535 - accuracy: 0.8529\n",
      "Epoch 57: val_accuracy did not improve from 0.83146\n",
      "72/72 [==============================] - 0s 2ms/step - loss: 0.3512 - accuracy: 0.8537 - val_loss: 0.4730 - val_accuracy: 0.8146\n",
      "Epoch 58/100\n",
      "34/72 [=============>................] - ETA: 0s - loss: 0.3535 - accuracy: 0.8500\n",
      "Epoch 58: val_accuracy did not improve from 0.83146\n",
      "72/72 [==============================] - 0s 2ms/step - loss: 0.3485 - accuracy: 0.8565 - val_loss: 0.4666 - val_accuracy: 0.8258\n",
      "Epoch 59/100\n",
      "45/72 [=================>............] - ETA: 0s - loss: 0.3340 - accuracy: 0.8533\n",
      "Epoch 59: val_accuracy did not improve from 0.83146\n",
      "72/72 [==============================] - 0s 2ms/step - loss: 0.3495 - accuracy: 0.8537 - val_loss: 0.4782 - val_accuracy: 0.8090\n",
      "Epoch 60/100\n",
      "41/72 [================>.............] - ETA: 0s - loss: 0.3225 - accuracy: 0.8683\n",
      "Epoch 60: val_accuracy did not improve from 0.83146\n",
      "72/72 [==============================] - 0s 2ms/step - loss: 0.3476 - accuracy: 0.8551 - val_loss: 0.4669 - val_accuracy: 0.8146\n",
      "Epoch 61/100\n",
      "42/72 [================>.............] - ETA: 0s - loss: 0.3581 - accuracy: 0.8333\n",
      "Epoch 61: val_accuracy did not improve from 0.83146\n",
      "72/72 [==============================] - 0s 2ms/step - loss: 0.3485 - accuracy: 0.8453 - val_loss: 0.4678 - val_accuracy: 0.8146\n",
      "Epoch 62/100\n",
      "45/72 [=================>............] - ETA: 0s - loss: 0.3390 - accuracy: 0.8444\n",
      "Epoch 62: val_accuracy did not improve from 0.83146\n",
      "72/72 [==============================] - 0s 2ms/step - loss: 0.3452 - accuracy: 0.8523 - val_loss: 0.4662 - val_accuracy: 0.8202\n",
      "Epoch 63/100\n",
      "39/72 [===============>..............] - ETA: 0s - loss: 0.3369 - accuracy: 0.8564\n",
      "Epoch 63: val_accuracy did not improve from 0.83146\n",
      "72/72 [==============================] - 0s 2ms/step - loss: 0.3433 - accuracy: 0.8594 - val_loss: 0.4738 - val_accuracy: 0.8090\n",
      "Epoch 64/100\n",
      "42/72 [================>.............] - ETA: 0s - loss: 0.3710 - accuracy: 0.8333\n",
      "Epoch 64: val_accuracy did not improve from 0.83146\n",
      "72/72 [==============================] - 0s 2ms/step - loss: 0.3442 - accuracy: 0.8565 - val_loss: 0.4765 - val_accuracy: 0.8090\n",
      "Epoch 65/100\n",
      "44/72 [=================>............] - ETA: 0s - loss: 0.3289 - accuracy: 0.8682\n",
      "Epoch 65: val_accuracy did not improve from 0.83146\n",
      "72/72 [==============================] - 0s 2ms/step - loss: 0.3434 - accuracy: 0.8579 - val_loss: 0.4738 - val_accuracy: 0.8146\n",
      "Epoch 66/100\n",
      "38/72 [==============>...............] - ETA: 0s - loss: 0.3371 - accuracy: 0.8447\n",
      "Epoch 66: val_accuracy did not improve from 0.83146\n",
      "72/72 [==============================] - 0s 2ms/step - loss: 0.3410 - accuracy: 0.8495 - val_loss: 0.4755 - val_accuracy: 0.8090\n",
      "Epoch 67/100\n",
      "40/72 [===============>..............] - ETA: 0s - loss: 0.3575 - accuracy: 0.8625\n",
      "Epoch 67: val_accuracy did not improve from 0.83146\n",
      "72/72 [==============================] - 0s 2ms/step - loss: 0.3411 - accuracy: 0.8579 - val_loss: 0.4714 - val_accuracy: 0.8090\n",
      "Epoch 68/100\n",
      "41/72 [================>.............] - ETA: 0s - loss: 0.3343 - accuracy: 0.8659\n",
      "Epoch 68: val_accuracy did not improve from 0.83146\n",
      "72/72 [==============================] - 0s 2ms/step - loss: 0.3436 - accuracy: 0.8565 - val_loss: 0.4679 - val_accuracy: 0.8146\n",
      "Epoch 69/100\n",
      "41/72 [================>.............] - ETA: 0s - loss: 0.3278 - accuracy: 0.8585\n",
      "Epoch 69: val_accuracy did not improve from 0.83146\n",
      "72/72 [==============================] - 0s 2ms/step - loss: 0.3393 - accuracy: 0.8551 - val_loss: 0.4760 - val_accuracy: 0.8090\n",
      "Epoch 70/100\n",
      "43/72 [================>.............] - ETA: 0s - loss: 0.2906 - accuracy: 0.8767\n",
      "Epoch 70: val_accuracy did not improve from 0.83146\n",
      "72/72 [==============================] - 0s 2ms/step - loss: 0.3433 - accuracy: 0.8523 - val_loss: 0.4758 - val_accuracy: 0.8090\n",
      "Epoch 71/100\n",
      "45/72 [=================>............] - ETA: 0s - loss: 0.3389 - accuracy: 0.8667\n",
      "Epoch 71: val_accuracy did not improve from 0.83146\n",
      "72/72 [==============================] - 0s 2ms/step - loss: 0.3387 - accuracy: 0.8608 - val_loss: 0.4792 - val_accuracy: 0.8090\n",
      "Epoch 72/100\n",
      "71/72 [============================>.] - ETA: 0s - loss: 0.3400 - accuracy: 0.8535\n",
      "Epoch 72: val_accuracy did not improve from 0.83146\n",
      "72/72 [==============================] - 0s 2ms/step - loss: 0.3396 - accuracy: 0.8537 - val_loss: 0.4809 - val_accuracy: 0.8146\n",
      "Epoch 73/100\n",
      "54/72 [=====================>........] - ETA: 0s - loss: 0.3510 - accuracy: 0.8537\n",
      "Epoch 73: val_accuracy did not improve from 0.83146\n",
      "72/72 [==============================] - 0s 2ms/step - loss: 0.3360 - accuracy: 0.8579 - val_loss: 0.4737 - val_accuracy: 0.8090\n",
      "Epoch 74/100\n",
      "38/72 [==============>...............] - ETA: 0s - loss: 0.3365 - accuracy: 0.8711\n",
      "Epoch 74: val_accuracy did not improve from 0.83146\n",
      "72/72 [==============================] - 0s 2ms/step - loss: 0.3375 - accuracy: 0.8608 - val_loss: 0.4689 - val_accuracy: 0.8090\n",
      "Epoch 75/100\n",
      "62/72 [========================>.....] - ETA: 0s - loss: 0.3437 - accuracy: 0.8516\n",
      "Epoch 75: val_accuracy did not improve from 0.83146\n",
      "72/72 [==============================] - 0s 2ms/step - loss: 0.3347 - accuracy: 0.8608 - val_loss: 0.4830 - val_accuracy: 0.8202\n",
      "Epoch 76/100\n",
      "62/72 [========================>.....] - ETA: 0s - loss: 0.3221 - accuracy: 0.8597\n",
      "Epoch 76: val_accuracy did not improve from 0.83146\n",
      "72/72 [==============================] - 0s 2ms/step - loss: 0.3398 - accuracy: 0.8481 - val_loss: 0.4840 - val_accuracy: 0.8090\n",
      "Epoch 77/100\n",
      "41/72 [================>.............] - ETA: 0s - loss: 0.3189 - accuracy: 0.8561\n",
      "Epoch 77: val_accuracy did not improve from 0.83146\n",
      "72/72 [==============================] - 0s 2ms/step - loss: 0.3366 - accuracy: 0.8579 - val_loss: 0.4885 - val_accuracy: 0.8090\n",
      "Epoch 78/100\n",
      "44/72 [=================>............] - ETA: 0s - loss: 0.2910 - accuracy: 0.8841\n",
      "Epoch 78: val_accuracy did not improve from 0.83146\n",
      "72/72 [==============================] - 0s 2ms/step - loss: 0.3359 - accuracy: 0.8565 - val_loss: 0.4764 - val_accuracy: 0.8034\n",
      "Epoch 79/100\n",
      "64/72 [=========================>....] - ETA: 0s - loss: 0.3281 - accuracy: 0.8656\n",
      "Epoch 79: val_accuracy did not improve from 0.83146\n",
      "72/72 [==============================] - 0s 2ms/step - loss: 0.3357 - accuracy: 0.8622 - val_loss: 0.4914 - val_accuracy: 0.8090\n",
      "Epoch 80/100\n",
      "44/72 [=================>............] - ETA: 0s - loss: 0.3543 - accuracy: 0.8523\n",
      "Epoch 80: val_accuracy did not improve from 0.83146\n",
      "72/72 [==============================] - 0s 2ms/step - loss: 0.3355 - accuracy: 0.8622 - val_loss: 0.4831 - val_accuracy: 0.8034\n",
      "Epoch 81/100\n",
      "42/72 [================>.............] - ETA: 0s - loss: 0.3276 - accuracy: 0.8810\n",
      "Epoch 81: val_accuracy did not improve from 0.83146\n",
      "72/72 [==============================] - 0s 2ms/step - loss: 0.3339 - accuracy: 0.8650 - val_loss: 0.4790 - val_accuracy: 0.7978\n",
      "Epoch 82/100\n",
      "42/72 [================>.............] - ETA: 0s - loss: 0.3679 - accuracy: 0.8500\n",
      "Epoch 82: val_accuracy did not improve from 0.83146\n",
      "72/72 [==============================] - 0s 2ms/step - loss: 0.3348 - accuracy: 0.8608 - val_loss: 0.4870 - val_accuracy: 0.7921\n",
      "Epoch 83/100\n",
      "39/72 [===============>..............] - ETA: 0s - loss: 0.3418 - accuracy: 0.8564\n",
      "Epoch 83: val_accuracy did not improve from 0.83146\n",
      "72/72 [==============================] - 0s 2ms/step - loss: 0.3327 - accuracy: 0.8622 - val_loss: 0.4872 - val_accuracy: 0.7978\n",
      "Epoch 84/100\n",
      "39/72 [===============>..............] - ETA: 0s - loss: 0.3638 - accuracy: 0.8538\n",
      "Epoch 84: val_accuracy did not improve from 0.83146\n",
      "72/72 [==============================] - 0s 2ms/step - loss: 0.3306 - accuracy: 0.8622 - val_loss: 0.4856 - val_accuracy: 0.7978\n",
      "Epoch 85/100\n",
      "44/72 [=================>............] - ETA: 0s - loss: 0.3236 - accuracy: 0.8659\n",
      "Epoch 85: val_accuracy did not improve from 0.83146\n",
      "72/72 [==============================] - 0s 2ms/step - loss: 0.3302 - accuracy: 0.8636 - val_loss: 0.4943 - val_accuracy: 0.8090\n",
      "Epoch 86/100\n",
      "43/72 [================>.............] - ETA: 0s - loss: 0.3279 - accuracy: 0.8651\n",
      "Epoch 86: val_accuracy did not improve from 0.83146\n",
      "72/72 [==============================] - 0s 2ms/step - loss: 0.3280 - accuracy: 0.8594 - val_loss: 0.4768 - val_accuracy: 0.7978\n",
      "Epoch 87/100\n",
      "39/72 [===============>..............] - ETA: 0s - loss: 0.3013 - accuracy: 0.8692\n",
      "Epoch 87: val_accuracy did not improve from 0.83146\n",
      "72/72 [==============================] - 0s 2ms/step - loss: 0.3327 - accuracy: 0.8565 - val_loss: 0.4894 - val_accuracy: 0.7865\n",
      "Epoch 88/100\n",
      "41/72 [================>.............] - ETA: 0s - loss: 0.3216 - accuracy: 0.8780\n",
      "Epoch 88: val_accuracy did not improve from 0.83146\n",
      "72/72 [==============================] - 0s 2ms/step - loss: 0.3296 - accuracy: 0.8664 - val_loss: 0.4834 - val_accuracy: 0.7865\n",
      "Epoch 89/100\n",
      "42/72 [================>.............] - ETA: 0s - loss: 0.3208 - accuracy: 0.8714\n",
      "Epoch 89: val_accuracy did not improve from 0.83146\n",
      "72/72 [==============================] - 0s 2ms/step - loss: 0.3268 - accuracy: 0.8664 - val_loss: 0.4914 - val_accuracy: 0.8034\n",
      "Epoch 90/100\n",
      "41/72 [================>.............] - ETA: 0s - loss: 0.3045 - accuracy: 0.8805\n",
      "Epoch 90: val_accuracy did not improve from 0.83146\n",
      "72/72 [==============================] - 0s 2ms/step - loss: 0.3269 - accuracy: 0.8650 - val_loss: 0.4790 - val_accuracy: 0.7865\n",
      "Epoch 91/100\n",
      "40/72 [===============>..............] - ETA: 0s - loss: 0.3426 - accuracy: 0.8525\n",
      "Epoch 91: val_accuracy did not improve from 0.83146\n",
      "72/72 [==============================] - 0s 2ms/step - loss: 0.3297 - accuracy: 0.8650 - val_loss: 0.5028 - val_accuracy: 0.8034\n",
      "Epoch 92/100\n",
      "45/72 [=================>............] - ETA: 0s - loss: 0.3336 - accuracy: 0.8644\n",
      "Epoch 92: val_accuracy did not improve from 0.83146\n",
      "72/72 [==============================] - 0s 2ms/step - loss: 0.3310 - accuracy: 0.8636 - val_loss: 0.4875 - val_accuracy: 0.7809\n",
      "Epoch 93/100\n",
      "43/72 [================>.............] - ETA: 0s - loss: 0.3415 - accuracy: 0.8674\n",
      "Epoch 93: val_accuracy did not improve from 0.83146\n",
      "72/72 [==============================] - 0s 2ms/step - loss: 0.3268 - accuracy: 0.8706 - val_loss: 0.4936 - val_accuracy: 0.7978\n",
      "Epoch 94/100\n",
      "41/72 [================>.............] - ETA: 0s - loss: 0.3296 - accuracy: 0.8683\n",
      "Epoch 94: val_accuracy did not improve from 0.83146\n",
      "72/72 [==============================] - 0s 2ms/step - loss: 0.3256 - accuracy: 0.8608 - val_loss: 0.4894 - val_accuracy: 0.7978\n",
      "Epoch 95/100\n",
      "45/72 [=================>............] - ETA: 0s - loss: 0.3328 - accuracy: 0.8644\n",
      "Epoch 95: val_accuracy did not improve from 0.83146\n",
      "72/72 [==============================] - 0s 2ms/step - loss: 0.3274 - accuracy: 0.8692 - val_loss: 0.4957 - val_accuracy: 0.8090\n",
      "Epoch 96/100\n",
      "42/72 [================>.............] - ETA: 0s - loss: 0.3125 - accuracy: 0.8643\n",
      "Epoch 96: val_accuracy did not improve from 0.83146\n",
      "72/72 [==============================] - 0s 2ms/step - loss: 0.3229 - accuracy: 0.8594 - val_loss: 0.4904 - val_accuracy: 0.7865\n",
      "Epoch 97/100\n",
      "40/72 [===============>..............] - ETA: 0s - loss: 0.3175 - accuracy: 0.8750\n",
      "Epoch 97: val_accuracy did not improve from 0.83146\n",
      "72/72 [==============================] - 0s 2ms/step - loss: 0.3254 - accuracy: 0.8678 - val_loss: 0.4858 - val_accuracy: 0.7809\n",
      "Epoch 98/100\n",
      "44/72 [=================>............] - ETA: 0s - loss: 0.3181 - accuracy: 0.8727\n",
      "Epoch 98: val_accuracy did not improve from 0.83146\n",
      "72/72 [==============================] - 0s 2ms/step - loss: 0.3252 - accuracy: 0.8678 - val_loss: 0.4983 - val_accuracy: 0.7865\n",
      "Epoch 99/100\n",
      "44/72 [=================>............] - ETA: 0s - loss: 0.3257 - accuracy: 0.8614\n",
      "Epoch 99: val_accuracy did not improve from 0.83146\n",
      "72/72 [==============================] - 0s 2ms/step - loss: 0.3233 - accuracy: 0.8650 - val_loss: 0.4958 - val_accuracy: 0.7865\n",
      "Epoch 100/100\n",
      "41/72 [================>.............] - ETA: 0s - loss: 0.3130 - accuracy: 0.8780\n",
      "Epoch 100: val_accuracy did not improve from 0.83146\n",
      "72/72 [==============================] - 0s 2ms/step - loss: 0.3239 - accuracy: 0.8650 - val_loss: 0.4928 - val_accuracy: 0.7921\n"
     ]
    }
   ],
   "source": [
    "save_directory = \"prediction_titanic/best_model_v2.h5\"\n",
    "\n",
    "# Creation of a callback to save the best model\n",
    "callback = keras.callbacks.ModelCheckpoint(filepath=save_directory, save_best_only=True, verbose=1, monitor='val_accuracy')\n",
    "\n",
    "# Training the model\n",
    "history = model.fit(  X_train, Y_train,\n",
    "                      batch_size      = 10,\n",
    "                      epochs          = 100,\n",
    "                      verbose         = 1,\n",
    "                      callbacks       = [callback],\n",
    "                      validation_data = (X_validation, Y_validation))"
   ]
  },
  {
   "attachments": {},
   "cell_type": "markdown",
   "metadata": {},
   "source": [
    "## 7 - Model Evaluation"
   ]
  },
  {
   "attachments": {},
   "cell_type": "markdown",
   "metadata": {},
   "source": [
    "Let's see how our model is performing during the training."
   ]
  },
  {
   "cell_type": "code",
   "execution_count": 15,
   "metadata": {},
   "outputs": [
    {
     "data": {
      "image/png": "[encoded data removed]",
      "text/plain": [
       "<Figure size 1000x500 with 2 Axes>"
      ]
     },
     "metadata": {},
     "output_type": "display_data"
    }
   ],
   "source": [
    "# Getting the evolution of the loss and the accuracy\n",
    "train_loss = history.history['loss']\n",
    "val_loss   = history.history['val_loss']\n",
    "train_acc  = np.array(history.history['accuracy'])*100\n",
    "val_acc    = np.array(history.history['val_accuracy'])*100\n",
    "\n",
    "# Plotting the evolution of the loss and accuracy\n",
    "fig, (ax1, ax2) = plt.subplots(1, 2, figsize=(10, 5))\n",
    "\n",
    "ax1.plot(train_loss, label='loss on the training data')\n",
    "ax1.plot(val_loss, label='loss on the validation data')\n",
    "ax1.set_title('Evolution of the loss')\n",
    "ax1.set_xlabel('Epochs')\n",
    "ax1.set_ylabel('Loss [binary cross entropy]')\n",
    "\n",
    "ax2.plot(train_acc, label='accuracy on the training data')\n",
    "ax2.plot(val_acc, label='accuracy on the validation data')\n",
    "ax2.set_title('Evolution of the accuracy')\n",
    "ax2.set_xlabel('Epochs')\n",
    "ax2.set_ylabel('Accuracy [%]')\n",
    "\n",
    "plt.legend()\n",
    "plt.show()"
   ]
  },
  {
   "attachments": {},
   "cell_type": "markdown",
   "metadata": {},
   "source": [
    "How perfomant is the best model we can get ?"
   ]
  },
  {
   "cell_type": "code",
   "execution_count": 16,
   "metadata": {},
   "outputs": [
    {
     "name": "stdout",
     "output_type": "stream",
     "text": [
      "6/6 [==============================] - 0s 1ms/step - loss: 0.4575 - accuracy: 0.8315\n",
      "23/23 [==============================] - 0s 1ms/step - loss: 0.3790 - accuracy: 0.8467\n",
      "Best model accuracy on the validation data:  83.1 %\n",
      "Best model accuracy on the training data:  84.7 %\n"
     ]
    }
   ],
   "source": [
    "# Loading the best model\n",
    "best_model = keras.models.load_model(save_directory)\n",
    "\n",
    "# Best model evaluation\n",
    "acc_val = round(best_model.evaluate(X_validation, Y_validation)[1]*100,1)\n",
    "acc_train = round(best_model.evaluate(X_train, Y_train)[1]*100, 1)\n",
    "print(\"Best model accuracy on the validation data: \", acc_val,'%')\n",
    "print(\"Best model accuracy on the training data: \", acc_train,'%')\n"
   ]
  },
  {
   "attachments": {},
   "cell_type": "markdown",
   "metadata": {},
   "source": [
    "## 8 - Prediction"
   ]
  },
  {
   "cell_type": "code",
   "execution_count": 20,
   "metadata": {},
   "outputs": [
    {
     "name": "stdout",
     "output_type": "stream",
     "text": [
      "14/14 [==============================] - 0s 997us/step\n"
     ]
    }
   ],
   "source": [
    "# Prediction of the test data\n",
    "survival_prediction = best_model.predict(X_test.drop(columns=['PassengerId'])).flatten()\n",
    "prediction = pd.DataFrame({'PassengerId': X_test['PassengerId'], 'Survived': [round(x) for x in survival_prediction]})\n",
    "\n",
    "# Show somme of the first predictions\n",
    "prediction.head()\n",
    "\n",
    "# Saving the prediction\n",
    "prediction.to_csv('prediction_titanic/prediction_v2.csv', index=False)"
   ]
  }
 ],
 "metadata": {
  "kernelspec": {
   "display_name": ".venv",
   "language": "python",
   "name": "python3"
  },
  "language_info": {
   "codemirror_mode": {
    "name": "ipython",
    "version": 3
   },
   "file_extension": ".py",
   "mimetype": "text/x-python",
   "name": "python",
   "nbconvert_exporter": "python",
   "pygments_lexer": "ipython3",
   "version": "3.10.11"
  },
  "orig_nbformat": 4
 },
 "nbformat": 4,
 "nbformat_minor": 2
}
